{
 "cells": [
  {
   "cell_type": "code",
   "execution_count": 2,
   "metadata": {},
   "outputs": [],
   "source": [
    "import os\n",
    "import getpass\n",
    "import fitz  # PyMuPDF\n",
    "from langchain.text_splitter import RecursiveCharacterTextSplitter\n",
    "from langchain.vectorstores import Chroma\n",
    "from langchain_google_vertexai import ChatVertexAI\n",
    "from langchain_openai import OpenAIEmbeddings\n",
    "from langchain.prompts import PromptTemplate\n",
    "from langchain.chains import RetrievalQA\n",
    "from langchain.memory import ConversationBufferMemory"
   ]
  },
  {
   "cell_type": "code",
   "execution_count": 3,
   "metadata": {},
   "outputs": [],
   "source": [
    "# Set environment variable for Google API key\n",
    "os.environ[\"GOOGLE_API_KEY\"] = getpass.getpass()"
   ]
  },
  {
   "cell_type": "code",
   "execution_count": 37,
   "metadata": {},
   "outputs": [
    {
     "name": "stdout",
     "output_type": "stream",
     "text": [
      "ABSTRACT \n",
      "In the future of India lies the future of a sixth of the world’s population. \n",
      "As the Artificial Intelligence (AI) revolution sweeps through \n",
      "societies and enters daily life, its role in shaping India’s development \n",
      "and growth is bound to be substantial. For India, AI holds \n",
      "promise as a catalyst to accelerate progress, while providing mechanisms \n",
      "to leapfrog traditional hurdles such as poor infrastructure \n",
      "and bureaucracy. At the same time, an investment in AI is accompanied \n",
      "by risk factors with long-term implications on society: it \n",
      "is imperative that risks be vetted at this early stage. In this paper, \n",
      "we describe opportunities and challenges for AI in India. We detail \n",
      "opportunities that are cross-cutting (bridging India’s linguistic \n",
      "divisions, mining public data), and also specific to one particular \n",
      "sector (healthcare). We list challenges that originate from existing \n",
      "social conditions (such as equations of caste and gender). Thereafter \n",
      "we distill out concrete steps and safeguards, which we believe are \n",
      "necessary for robust and inclusive development as India enters the \n",
      "AI era. \n",
      "CCS CONCEPTS \n",
      "• Computing methodologies → Artificial intelligence; • Social \n",
      "and professional topics→Government technology policy; \n",
      "KEYWORDS \n",
      "Artificial Intelligence, India \n",
      "ACM Reference Format: \n",
      "Shivaram Kalyanakrishnan, Rahul Alex Panicker, Sarayu Natarajan, and Shreya \n",
      "Rao. 2018. Opportunities and Challenges for Artificial Intelligence in India. \n",
      "In 2018 AAAI/ACM Conference on AI, Ethics, and Society (AIES ’18), February \n",
      "2–3, 2018, New Orleans, LA, USA. ACM, New York, NY, USA, 7 pages. \n",
      "https://doi.org/10.1145/3278721.3278738 \n",
      "Permission to make digital or hard copies of all or part of this work for personal or \n",
      "classroom use is granted without fee provided that copies are not made or distributed \n",
      "for profit or commercial advantage and that copies bear this notice and the full citation \n",
      "on the first page. Copyrights for components of this work owned by others than ACM \n",
      "must be honored. Abstracting with credit is permitted. To copy otherwise, or republish, \n",
      "to post on servers or to redistribute to lists, requires prior specific permission and/or a \n",
      "fee. Request permissions from permissions@acm.org. \n",
      "AIES ’18, February 2–3, 2018, New Orleans, LA, USA \n",
      "c 2018 Association for Computing Machinery. \n",
      "ACM ISBN 978-1-4503-6012-8/18/02. . . $15.00 \n",
      "https://doi.org/10.1145/3278721.3278738 \n",
      "1 INTRODUCTION \n",
      "Investigations into the effect of technology on society are often \n",
      "structured “vertically” around topics such as ethics [15], law [12], \n",
      "economic productivity and employment [11], and the implications \n",
      "of social markers such as gender [59] and race [16]. In this paper, \n",
      "we adopt a “horizontal” framing that views the totality of such \n",
      "questions from a fixed perspective: the role of Artificial Intelligence \n",
      "(AI) in the ongoing development of India. Our choice of a countryspecific \n",
      "perspective is not new. For example, Little (1999) examines \n",
      "the effects of the global production system on several East Asian \n",
      "countries; the recently undertaken AI100 study [57] considers a \n",
      "variety of domains at the intersection of AI and a “typical North \n",
      "American city”. A paucity of academic literature on the implications \n",
      "of AI for India motivates a unified treatment of relevant technical \n",
      "and non-technical questions. Our paper aims to provide a framework \n",
      "to which technologists, social scientists, and policy makers \n",
      "can all contribute. \n",
      "In India’s future lies the future of a sixth of theworld’s population— \n",
      "enough reason by itself to track the country’s tryst with AI. Of \n",
      "equal interest is India’s unique social, cultural, economic, and political \n",
      "context, which has the potential to magnify both the benefits \n",
      "and the risks of AI. With a large, young workforce [62], a fastgrowing \n",
      "economy [41], and a vibrant, resilient democracy [48], \n",
      "India presents an opportunity for AI applications to have tremendous \n",
      "reach and scale (and helping create abundance). AI-driven \n",
      "interventions can enhance public services: for example, streamlining \n",
      "the public distribution system, and reducing the costs of \n",
      "law enforcement. AI can also enhance private services, such as the \n",
      "use of AI-enabled personalised healthcare, or robots in production \n",
      "lines. On the other hand, India’s challenges—varying from income \n",
      "inequality [1, 17] and caste-based discrimination [4] to linguistic \n",
      "diversity [42]—are also magnified by the size and variety of the \n",
      "population. Yet other societal challenges, such as malnutrition [39] \n",
      "and girls’ education [43], may best be tackled through means unrelated \n",
      "to AI. Where AI can indeed make meaningful contributions, \n",
      "its solutions will often have to withstand cultural forces shaped by \n",
      "millennia of civilisational history. \n",
      "Since India is significantly behind many other countries in its \n",
      "technological development, it is natural for technologists and policy \n",
      "makers to look to transplant successful ideas from other contexts \n",
      "into India. A growing body of literature warns of the inefficiency, \n",
      "even danger, of such an approach [9, 37, 50]. The main thesis of \n",
      "this paper is indeed the need to plan “AI for India” from the bottom \n",
      "\n"
     ]
    }
   ],
   "source": [
    "# Open the PDF file\n",
    "pdf_document = fitz.open(\"ABSTRACT.pdf\")\n",
    "\n",
    "# Extract text from the PDF\n",
    "text = \"\"\n",
    "for page_num in range(len(pdf_document)):\n",
    "    page = pdf_document.load_page(page_num)\n",
    "    text += page.get_text()\n",
    "\n",
    "# Close the document\n",
    "pdf_document.close()\n",
    "\n",
    "# Print or process the extracted text\n",
    "print(text)"
   ]
  },
  {
   "cell_type": "code",
   "execution_count": null,
   "metadata": {},
   "outputs": [
    {
     "name": "stdout",
     "output_type": "stream",
     "text": [
      "Chunk 1:\n",
      "page_content='ABSTRACT \n",
      "In the future of India lies the future of a sixth of the world’s population.'\n",
      "\n",
      "Chunk 2:\n",
      "page_content='As the Artificial Intelligence (AI) revolution sweeps through'\n",
      "\n",
      "Chunk 3:\n",
      "page_content='societies and enters daily life, its role in shaping India’s development'\n",
      "\n",
      "Chunk 4:\n",
      "page_content='and growth is bound to be substantial. For India, AI holds'\n",
      "\n",
      "Chunk 5:\n",
      "page_content='promise as a catalyst to accelerate progress, while providing mechanisms'\n",
      "\n"
     ]
    }
   ],
   "source": [
    "# Initialize the text splitter\n",
    "text_splitter = RecursiveCharacterTextSplitter(\n",
    "    chunk_size=1000,          # Maximum size of each chunk\n",
    "    chunk_overlap=200,         # Number of characters that overlap between chunks\n",
    "    length_function=len,      # Function to determine the length of the text\n",
    "    is_separator_regex=False  # Indicates if the separator should be treated as a regex\n",
    ")\n",
    "\n",
    "# Split the text into chunks\n",
    "chunks = text_splitter.create_documents([text])\n",
    "\n",
    "# Print the first few chunks for verification\n",
    "for i, chunk in enumerate(chunks[:5]):\n",
    "    print(f\"Chunk {i+1}:\\n{chunk}\\n\")"
   ]
  },
  {
   "cell_type": "code",
   "execution_count": null,
   "metadata": {},
   "outputs": [],
   "source": [
    "# Create embeddings and ChromaDB\n",
    "db = Chroma.from_documents(chunks, OpenAIEmbeddings())"
   ]
  },
  {
   "cell_type": "code",
   "execution_count": null,
   "metadata": {},
   "outputs": [],
   "source": [
    "# Set up retriever\n",
    "retriever = db.as_retriever()"
   ]
  },
  {
   "cell_type": "code",
   "execution_count": null,
   "metadata": {},
   "outputs": [],
   "source": [
    "llm = ChatVertexAI(model=\"gemini-1.5-flash\")"
   ]
  },
  {
   "cell_type": "code",
   "execution_count": null,
   "metadata": {},
   "outputs": [],
   "source": [
    "# Define prompt template\n",
    "template = \"\"\"\n",
    "<s>\n",
    "Using the information contained in the context,\n",
    "give a comprehensive answer to the question.\n",
    "Respond only to the question asked, response should be concise and relevant to the question.\n",
    "Provide the number of the source document when relevant.\n",
    "If the answer cannot be deduced from the context, do not give an answer.\n",
    "\n",
    "Use the following context (delimited by <ctx></ctx>) and the chat history (delimited by <hs></hs>) to answer the question:\n",
    "</s>\n",
    "------\n",
    "<ctx>\n",
    "{context}\n",
    "</ctx>\n",
    "------\n",
    "<hs>\n",
    "{history}\n",
    "</hs>\n",
    "------\n",
    "{question}\n",
    "Answer:\n",
    "\"\"\"\n",
    "\n",
    "prompt = PromptTemplate(\n",
    "    input_variables=[\"history\", \"context\", \"question\"],\n",
    "    template=template,\n",
    ")\n",
    "\n",
    "\n"
   ]
  },
  {
   "cell_type": "code",
   "execution_count": null,
   "metadata": {},
   "outputs": [],
   "source": [
    "qa = RetrievalQA.from_chain_type(\n",
    "    llm=llm,\n",
    "    chain_type='stuff',\n",
    "    retriever=retriever,\n",
    "    verbose=True,\n",
    "    chain_type_kwargs={\n",
    "        \"verbose\": True,\n",
    "        \"prompt\": prompt,\n",
    "        \"memory\": ConversationBufferMemory(\n",
    "            memory_key=\"history\",\n",
    "            input_key=\"question\"\n",
    "        ),\n",
    "    },\n",
    ")"
   ]
  },
  {
   "cell_type": "code",
   "execution_count": null,
   "metadata": {},
   "outputs": [],
   "source": [
    "# Run the QA system\n",
    "print(qa.run(\"Give me the summary\"))"
   ]
  }
 ],
 "metadata": {
  "kernelspec": {
   "display_name": "Python 3",
   "language": "python",
   "name": "python3"
  },
  "language_info": {
   "codemirror_mode": {
    "name": "ipython",
    "version": 3
   },
   "file_extension": ".py",
   "mimetype": "text/x-python",
   "name": "python",
   "nbconvert_exporter": "python",
   "pygments_lexer": "ipython3",
   "version": "3.9.0"
  }
 },
 "nbformat": 4,
 "nbformat_minor": 2
}
