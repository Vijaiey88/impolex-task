{
 "cells": [
  {
   "cell_type": "code",
   "execution_count": 2,
   "metadata": {},
   "outputs": [],
   "source": [
    "import os\n",
    "import fitz  # PyMuPDF\n",
    "from langchain.text_splitter import RecursiveCharacterTextSplitter\n",
    "from langchain_google_genai import GoogleGenerativeAIEmbeddings, ChatGoogleGenerativeAI\n",
    "from langchain.vectorstores import FAISS\n",
    "from langchain.chains import RetrievalQA\n",
    "from langchain.prompts import PromptTemplate\n",
    "from langchain.memory import ConversationBufferMemory\n",
    "from dotenv import load_dotenv\n",
    "import google.generativeai as genai\n",
    "import warnings\n",
    "warnings.filterwarnings(\"ignore\")"
   ]
  },
  {
   "cell_type": "code",
   "execution_count": 3,
   "metadata": {},
   "outputs": [],
   "source": [
    "# Load environment variables\n",
    "load_dotenv()\n",
    "my_api_key = os.getenv(\"GOOGLE_API_KEY\")"
   ]
  },
  {
   "cell_type": "code",
   "execution_count": 5,
   "metadata": {},
   "outputs": [
    {
     "name": "stdout",
     "output_type": "stream",
     "text": [
      "AI and Its Importance in Digital Transformation \n",
      "In the rapidly evolving digital landscape, Artificial Intelligence (AI) stands at the forefront of \n",
      "technological advancements, playing a pivotal role in digital transformation across various \n",
      "industries. Digital transformation refers to the integration of digital technologies into all \n",
      "areas of business, fundamentally changing how companies operate and deliver value to \n",
      "customers. AI enhances this transformation by enabling organizations to automate \n",
      "processes, gain deeper insights from data, and create personalized customer experiences, \n",
      "thereby driving innovation, efficiency, and competitiveness. \n",
      "1. Automation and Efficiency \n",
      "AI enables automation of repetitive tasks, allowing businesses to focus on more strategic \n",
      "and creative activities. Automation powered by AI can streamline operations, reduce human \n",
      "error, and increase efficiency in processes ranging from customer service to supply chain \n",
      "management. For instance, AI-driven chatbots provide instant customer support, handling \n",
      "routine inquiries and freeing up human agents for more complex issues. In manufacturing, \n",
      "AI-powered robots can perform precise tasks with greater speed and accuracy than humans, \n",
      "leading to higher productivity and reduced operational costs. \n",
      "2. Data-Driven Decision Making \n",
      "AI excels in processing vast amounts of data quickly and accurately, uncovering patterns and \n",
      "insights that would be difficult or impossible for humans to detect. Businesses can leverage \n",
      "these insights to make informed decisions, predict market trends, and identify new \n",
      "opportunities. Predictive analytics, a branch of AI, allows companies to forecast future \n",
      "events based on historical data, enabling proactive strategies rather than reactive ones. This \n",
      "capability is crucial in areas like financial forecasting, risk management, and customer \n",
      "behavior analysis. \n",
      "3. Enhanced Customer Experiences \n",
      "Personalization is a key component of modern customer engagement, and AI is instrumental \n",
      "in delivering tailored experiences. By analyzing customer data, AI can predict preferences, \n",
      "suggest products, and customize interactions in real time. For example, streaming services \n",
      "like Netflix use AI algorithms to recommend content based on user viewing history, while e-\n",
      "commerce platforms personalize product recommendations to enhance the shopping \n",
      "experience. This level of personalization not only increases customer satisfaction but also \n",
      "drives loyalty and repeat business. \n",
      "4. Innovation and Competitive Advantage \n",
      "AI fosters innovation by enabling businesses to experiment with new products, services, and \n",
      "business models. Companies that harness AI can gain a competitive edge by offering \n",
      "smarter, more efficient solutions that meet the evolving needs of their customers. AI-\n",
      "powered innovations such as self-driving cars, smart homes, and voice-activated assistants \n",
      "are transforming industries and creating new markets. Furthermore, AI allows businesses to \n",
      "quickly adapt to changes in the market, staying ahead of competitors who are slower to \n",
      "embrace digital transformation. \n",
      "5. Scalability and Flexibility \n",
      "AI solutions are highly scalable and can be integrated into various aspects of a business, \n",
      "regardless of size or industry. This scalability ensures that AI can grow with the business, \n",
      "providing consistent value as the organization expands. Moreover, AI systems can be flexible, \n",
      "adapting to new data, changing conditions, and evolving business needs. This flexibility is \n",
      "vital in a dynamic business environment where agility is a key determinant of success. \n",
      "6. Improved Operational Resilience \n",
      "AI enhances operational resilience by enabling businesses to anticipate and respond to \n",
      "disruptions more effectively. Through predictive maintenance, AI can identify potential \n",
      "equipment failures before they occur, minimizing downtime and extending the life of assets. \n",
      "In supply chain management, AI helps companies optimize logistics, manage inventory more \n",
      "efficiently, and respond to market fluctuations in real time. This resilience is critical in \n",
      "maintaining continuity and reliability, particularly in times of crisis. \n",
      "7. Ethical Considerations and Challenges \n",
      "While AI offers numerous benefits, it also presents ethical challenges that businesses must \n",
      "address. Issues such as data privacy, algorithmic bias, and the potential displacement of jobs \n",
      "require careful consideration and responsible management. Organizations must ensure that \n",
      "their AI initiatives are transparent, fair, and aligned with ethical standards. By doing so, they \n",
      "can build trust with customers, employees, and stakeholders, which is essential for the long-\n",
      "term success of digital transformation efforts. \n",
      "Conclusion \n",
      "AI is not just a tool for automation; it is a catalyst for digital transformation that enables \n",
      "businesses to innovate, operate more efficiently, and deliver enhanced customer \n",
      "experiences. By harnessing the power of AI, organizations can unlock new levels of \n",
      "performance, resilience, and competitiveness in an increasingly digital world. As AI \n",
      "continues to evolve, its role in digital transformation will only grow, making it an \n",
      "indispensable component of modern business strategy. \n",
      " \n",
      "\n"
     ]
    }
   ],
   "source": [
    "# Open the PDF file\n",
    "pdf_document = fitz.open(\"AI and Its Importance in Digital Transformation.pdf\")\n",
    "\n",
    "# Extract text from the PDF\n",
    "text = \"\"\n",
    "for page_num in range(len(pdf_document)):\n",
    "    page = pdf_document.load_page(page_num)\n",
    "    text += page.get_text()\n",
    "\n",
    "# Close the document\n",
    "pdf_document.close()\n",
    "\n",
    "# Print or process the extracted text\n",
    "print(text)"
   ]
  },
  {
   "cell_type": "code",
   "execution_count": 6,
   "metadata": {},
   "outputs": [],
   "source": [
    "# Split the text into chunks\n",
    "text_splitter = RecursiveCharacterTextSplitter(\n",
    "    chunk_size=1000,\n",
    "    chunk_overlap=200,  \n",
    "    length_function=len,\n",
    "    is_separator_regex=False,\n",
    ")\n",
    "chunks = text_splitter.create_documents([text])"
   ]
  },
  {
   "cell_type": "code",
   "execution_count": 7,
   "metadata": {},
   "outputs": [
    {
     "data": {
      "text/plain": [
       "[Document(page_content='AI and Its Importance in Digital Transformation \\nIn the rapidly evolving digital landscape, Artificial Intelligence (AI) stands at the forefront of \\ntechnological advancements, playing a pivotal role in digital transformation across various \\nindustries. Digital transformation refers to the integration of digital technologies into all \\nareas of business, fundamentally changing how companies operate and deliver value to \\ncustomers. AI enhances this transformation by enabling organizations to automate \\nprocesses, gain deeper insights from data, and create personalized customer experiences, \\nthereby driving innovation, efficiency, and competitiveness. \\n1. Automation and Efficiency \\nAI enables automation of repetitive tasks, allowing businesses to focus on more strategic \\nand creative activities. Automation powered by AI can streamline operations, reduce human \\nerror, and increase efficiency in processes ranging from customer service to supply chain'),\n",
       " Document(page_content='and creative activities. Automation powered by AI can streamline operations, reduce human \\nerror, and increase efficiency in processes ranging from customer service to supply chain \\nmanagement. For instance, AI-driven chatbots provide instant customer support, handling \\nroutine inquiries and freeing up human agents for more complex issues. In manufacturing, \\nAI-powered robots can perform precise tasks with greater speed and accuracy than humans, \\nleading to higher productivity and reduced operational costs. \\n2. Data-Driven Decision Making \\nAI excels in processing vast amounts of data quickly and accurately, uncovering patterns and \\ninsights that would be difficult or impossible for humans to detect. Businesses can leverage \\nthese insights to make informed decisions, predict market trends, and identify new \\nopportunities. Predictive analytics, a branch of AI, allows companies to forecast future'),\n",
       " Document(page_content='these insights to make informed decisions, predict market trends, and identify new \\nopportunities. Predictive analytics, a branch of AI, allows companies to forecast future \\nevents based on historical data, enabling proactive strategies rather than reactive ones. This \\ncapability is crucial in areas like financial forecasting, risk management, and customer \\nbehavior analysis. \\n3. Enhanced Customer Experiences \\nPersonalization is a key component of modern customer engagement, and AI is instrumental \\nin delivering tailored experiences. By analyzing customer data, AI can predict preferences, \\nsuggest products, and customize interactions in real time. For example, streaming services \\nlike Netflix use AI algorithms to recommend content based on user viewing history, while e-\\ncommerce platforms personalize product recommendations to enhance the shopping \\nexperience. This level of personalization not only increases customer satisfaction but also \\ndrives loyalty and repeat business.'),\n",
       " Document(page_content='experience. This level of personalization not only increases customer satisfaction but also \\ndrives loyalty and repeat business. \\n4. Innovation and Competitive Advantage \\nAI fosters innovation by enabling businesses to experiment with new products, services, and \\nbusiness models. Companies that harness AI can gain a competitive edge by offering \\nsmarter, more efficient solutions that meet the evolving needs of their customers. AI-\\npowered innovations such as self-driving cars, smart homes, and voice-activated assistants \\nare transforming industries and creating new markets. Furthermore, AI allows businesses to \\nquickly adapt to changes in the market, staying ahead of competitors who are slower to \\nembrace digital transformation. \\n5. Scalability and Flexibility \\nAI solutions are highly scalable and can be integrated into various aspects of a business, \\nregardless of size or industry. This scalability ensures that AI can grow with the business,'),\n",
       " Document(page_content='AI solutions are highly scalable and can be integrated into various aspects of a business, \\nregardless of size or industry. This scalability ensures that AI can grow with the business, \\nproviding consistent value as the organization expands. Moreover, AI systems can be flexible, \\nadapting to new data, changing conditions, and evolving business needs. This flexibility is \\nvital in a dynamic business environment where agility is a key determinant of success. \\n6. Improved Operational Resilience \\nAI enhances operational resilience by enabling businesses to anticipate and respond to \\ndisruptions more effectively. Through predictive maintenance, AI can identify potential \\nequipment failures before they occur, minimizing downtime and extending the life of assets. \\nIn supply chain management, AI helps companies optimize logistics, manage inventory more \\nefficiently, and respond to market fluctuations in real time. This resilience is critical in'),\n",
       " Document(page_content='In supply chain management, AI helps companies optimize logistics, manage inventory more \\nefficiently, and respond to market fluctuations in real time. This resilience is critical in \\nmaintaining continuity and reliability, particularly in times of crisis. \\n7. Ethical Considerations and Challenges \\nWhile AI offers numerous benefits, it also presents ethical challenges that businesses must \\naddress. Issues such as data privacy, algorithmic bias, and the potential displacement of jobs \\nrequire careful consideration and responsible management. Organizations must ensure that \\ntheir AI initiatives are transparent, fair, and aligned with ethical standards. By doing so, they \\ncan build trust with customers, employees, and stakeholders, which is essential for the long-\\nterm success of digital transformation efforts. \\nConclusion \\nAI is not just a tool for automation; it is a catalyst for digital transformation that enables'),\n",
       " Document(page_content='term success of digital transformation efforts. \\nConclusion \\nAI is not just a tool for automation; it is a catalyst for digital transformation that enables \\nbusinesses to innovate, operate more efficiently, and deliver enhanced customer \\nexperiences. By harnessing the power of AI, organizations can unlock new levels of \\nperformance, resilience, and competitiveness in an increasingly digital world. As AI \\ncontinues to evolve, its role in digital transformation will only grow, making it an \\nindispensable component of modern business strategy.')]"
      ]
     },
     "execution_count": 7,
     "metadata": {},
     "output_type": "execute_result"
    }
   ],
   "source": [
    "chunks"
   ]
  },
  {
   "cell_type": "code",
   "execution_count": 8,
   "metadata": {},
   "outputs": [],
   "source": [
    "# Extract text content from Document objects\n",
    "chunks = [doc.page_content for doc in chunks]"
   ]
  },
  {
   "cell_type": "code",
   "execution_count": 9,
   "metadata": {},
   "outputs": [
    {
     "data": {
      "text/plain": [
       "['AI and Its Importance in Digital Transformation \\nIn the rapidly evolving digital landscape, Artificial Intelligence (AI) stands at the forefront of \\ntechnological advancements, playing a pivotal role in digital transformation across various \\nindustries. Digital transformation refers to the integration of digital technologies into all \\nareas of business, fundamentally changing how companies operate and deliver value to \\ncustomers. AI enhances this transformation by enabling organizations to automate \\nprocesses, gain deeper insights from data, and create personalized customer experiences, \\nthereby driving innovation, efficiency, and competitiveness. \\n1. Automation and Efficiency \\nAI enables automation of repetitive tasks, allowing businesses to focus on more strategic \\nand creative activities. Automation powered by AI can streamline operations, reduce human \\nerror, and increase efficiency in processes ranging from customer service to supply chain',\n",
       " 'and creative activities. Automation powered by AI can streamline operations, reduce human \\nerror, and increase efficiency in processes ranging from customer service to supply chain \\nmanagement. For instance, AI-driven chatbots provide instant customer support, handling \\nroutine inquiries and freeing up human agents for more complex issues. In manufacturing, \\nAI-powered robots can perform precise tasks with greater speed and accuracy than humans, \\nleading to higher productivity and reduced operational costs. \\n2. Data-Driven Decision Making \\nAI excels in processing vast amounts of data quickly and accurately, uncovering patterns and \\ninsights that would be difficult or impossible for humans to detect. Businesses can leverage \\nthese insights to make informed decisions, predict market trends, and identify new \\nopportunities. Predictive analytics, a branch of AI, allows companies to forecast future',\n",
       " 'these insights to make informed decisions, predict market trends, and identify new \\nopportunities. Predictive analytics, a branch of AI, allows companies to forecast future \\nevents based on historical data, enabling proactive strategies rather than reactive ones. This \\ncapability is crucial in areas like financial forecasting, risk management, and customer \\nbehavior analysis. \\n3. Enhanced Customer Experiences \\nPersonalization is a key component of modern customer engagement, and AI is instrumental \\nin delivering tailored experiences. By analyzing customer data, AI can predict preferences, \\nsuggest products, and customize interactions in real time. For example, streaming services \\nlike Netflix use AI algorithms to recommend content based on user viewing history, while e-\\ncommerce platforms personalize product recommendations to enhance the shopping \\nexperience. This level of personalization not only increases customer satisfaction but also \\ndrives loyalty and repeat business.',\n",
       " 'experience. This level of personalization not only increases customer satisfaction but also \\ndrives loyalty and repeat business. \\n4. Innovation and Competitive Advantage \\nAI fosters innovation by enabling businesses to experiment with new products, services, and \\nbusiness models. Companies that harness AI can gain a competitive edge by offering \\nsmarter, more efficient solutions that meet the evolving needs of their customers. AI-\\npowered innovations such as self-driving cars, smart homes, and voice-activated assistants \\nare transforming industries and creating new markets. Furthermore, AI allows businesses to \\nquickly adapt to changes in the market, staying ahead of competitors who are slower to \\nembrace digital transformation. \\n5. Scalability and Flexibility \\nAI solutions are highly scalable and can be integrated into various aspects of a business, \\nregardless of size or industry. This scalability ensures that AI can grow with the business,',\n",
       " 'AI solutions are highly scalable and can be integrated into various aspects of a business, \\nregardless of size or industry. This scalability ensures that AI can grow with the business, \\nproviding consistent value as the organization expands. Moreover, AI systems can be flexible, \\nadapting to new data, changing conditions, and evolving business needs. This flexibility is \\nvital in a dynamic business environment where agility is a key determinant of success. \\n6. Improved Operational Resilience \\nAI enhances operational resilience by enabling businesses to anticipate and respond to \\ndisruptions more effectively. Through predictive maintenance, AI can identify potential \\nequipment failures before they occur, minimizing downtime and extending the life of assets. \\nIn supply chain management, AI helps companies optimize logistics, manage inventory more \\nefficiently, and respond to market fluctuations in real time. This resilience is critical in',\n",
       " 'In supply chain management, AI helps companies optimize logistics, manage inventory more \\nefficiently, and respond to market fluctuations in real time. This resilience is critical in \\nmaintaining continuity and reliability, particularly in times of crisis. \\n7. Ethical Considerations and Challenges \\nWhile AI offers numerous benefits, it also presents ethical challenges that businesses must \\naddress. Issues such as data privacy, algorithmic bias, and the potential displacement of jobs \\nrequire careful consideration and responsible management. Organizations must ensure that \\ntheir AI initiatives are transparent, fair, and aligned with ethical standards. By doing so, they \\ncan build trust with customers, employees, and stakeholders, which is essential for the long-\\nterm success of digital transformation efforts. \\nConclusion \\nAI is not just a tool for automation; it is a catalyst for digital transformation that enables',\n",
       " 'term success of digital transformation efforts. \\nConclusion \\nAI is not just a tool for automation; it is a catalyst for digital transformation that enables \\nbusinesses to innovate, operate more efficiently, and deliver enhanced customer \\nexperiences. By harnessing the power of AI, organizations can unlock new levels of \\nperformance, resilience, and competitiveness in an increasingly digital world. As AI \\ncontinues to evolve, its role in digital transformation will only grow, making it an \\nindispensable component of modern business strategy.']"
      ]
     },
     "execution_count": 9,
     "metadata": {},
     "output_type": "execute_result"
    }
   ],
   "source": [
    "chunks"
   ]
  },
  {
   "cell_type": "code",
   "execution_count": 10,
   "metadata": {},
   "outputs": [],
   "source": [
    "# Create embeddings and store them in FAISS\n",
    "embeddings = GoogleGenerativeAIEmbeddings(model=\"models/embedding-001\", google_api_key=my_api_key)\n",
    "db = FAISS.from_texts(chunks, embedding=embeddings)\n",
    "db.save_local(\"faiss_index\")  # Correct method to save FAISS index"
   ]
  },
  {
   "cell_type": "code",
   "execution_count": 11,
   "metadata": {},
   "outputs": [],
   "source": [
    "# Set up retriever\n",
    "retriever = db.as_retriever()"
   ]
  },
  {
   "cell_type": "code",
   "execution_count": 12,
   "metadata": {},
   "outputs": [],
   "source": [
    "# Initialize LLM model\n",
    "llm = ChatGoogleGenerativeAI(model=\"gemini-pro\", temperature=0.3)"
   ]
  },
  {
   "cell_type": "code",
   "execution_count": 14,
   "metadata": {},
   "outputs": [],
   "source": [
    "# Define prompt template\n",
    "template = \"\"\"\n",
    "<s>\n",
    "Using the information contained in the context,\n",
    "provide a comprehensive answer to the question.\n",
    "Respond only to the question asked, ensuring your response is concise and relevant.\n",
    "Reference the source document number when applicable.\n",
    "If the answer cannot be determined from the context, state \"unknown context.\"\n",
    "\n",
    "Use the following context (delimited by <ctx></ctx>) and the chat history (delimited by <hs></hs>) to answer the question:\n",
    "</s>\n",
    "------\n",
    "<ctx>\n",
    "{context}\n",
    "</ctx>\n",
    "------\n",
    "<hs>\n",
    "{history}\n",
    "</hs>\n",
    "------\n",
    "{question}\n",
    "Answer:\n",
    "\"\"\"\n",
    "\n",
    "prompt = PromptTemplate(\n",
    "    input_variables=[\"history\", \"context\", \"question\"],\n",
    "    template=template,\n",
    ")\n"
   ]
  },
  {
   "cell_type": "code",
   "execution_count": 15,
   "metadata": {},
   "outputs": [],
   "source": [
    "# Set up RetrievalQA\n",
    "qa = RetrievalQA.from_chain_type(\n",
    "    llm=llm,\n",
    "    chain_type='stuff',\n",
    "    retriever=retriever,\n",
    "    verbose=True,\n",
    "    chain_type_kwargs={\n",
    "        \"verbose\": True,\n",
    "        \"prompt\": prompt,\n",
    "        \"memory\": ConversationBufferMemory(\n",
    "            memory_key=\"history\",\n",
    "            input_key=\"question\"),\n",
    "    },\n",
    ")"
   ]
  },
  {
   "cell_type": "code",
   "execution_count": 21,
   "metadata": {},
   "outputs": [
    {
     "name": "stdout",
     "output_type": "stream",
     "text": [
      "\n",
      "\n",
      "\u001b[1m> Entering new RetrievalQA chain...\u001b[0m\n",
      "\n",
      "\n",
      "\u001b[1m> Entering new StuffDocumentsChain chain...\u001b[0m\n",
      "\n",
      "\n",
      "\u001b[1m> Entering new LLMChain chain...\u001b[0m\n",
      "Prompt after formatting:\n",
      "\u001b[32;1m\u001b[1;3m\n",
      "<s>\n",
      "Using the information contained in the context,\n",
      "provide a comprehensive answer to the question.\n",
      "Respond only to the question asked, ensuring your response is concise and relevant.\n",
      "Reference the source document number when applicable.\n",
      "If the answer cannot be determined from the context, state \"unknown context.\"\n",
      "\n",
      "Use the following context (delimited by <ctx></ctx>) and the chat history (delimited by <hs></hs>) to answer the question:\n",
      "</s>\n",
      "------\n",
      "<ctx>\n",
      "term success of digital transformation efforts. \n",
      "Conclusion \n",
      "AI is not just a tool for automation; it is a catalyst for digital transformation that enables \n",
      "businesses to innovate, operate more efficiently, and deliver enhanced customer \n",
      "experiences. By harnessing the power of AI, organizations can unlock new levels of \n",
      "performance, resilience, and competitiveness in an increasingly digital world. As AI \n",
      "continues to evolve, its role in digital transformation will only grow, making it an \n",
      "indispensable component of modern business strategy.\n",
      "\n",
      "In supply chain management, AI helps companies optimize logistics, manage inventory more \n",
      "efficiently, and respond to market fluctuations in real time. This resilience is critical in \n",
      "maintaining continuity and reliability, particularly in times of crisis. \n",
      "7. Ethical Considerations and Challenges \n",
      "While AI offers numerous benefits, it also presents ethical challenges that businesses must \n",
      "address. Issues such as data privacy, algorithmic bias, and the potential displacement of jobs \n",
      "require careful consideration and responsible management. Organizations must ensure that \n",
      "their AI initiatives are transparent, fair, and aligned with ethical standards. By doing so, they \n",
      "can build trust with customers, employees, and stakeholders, which is essential for the long-\n",
      "term success of digital transformation efforts. \n",
      "Conclusion \n",
      "AI is not just a tool for automation; it is a catalyst for digital transformation that enables\n",
      "\n",
      "AI and Its Importance in Digital Transformation \n",
      "In the rapidly evolving digital landscape, Artificial Intelligence (AI) stands at the forefront of \n",
      "technological advancements, playing a pivotal role in digital transformation across various \n",
      "industries. Digital transformation refers to the integration of digital technologies into all \n",
      "areas of business, fundamentally changing how companies operate and deliver value to \n",
      "customers. AI enhances this transformation by enabling organizations to automate \n",
      "processes, gain deeper insights from data, and create personalized customer experiences, \n",
      "thereby driving innovation, efficiency, and competitiveness. \n",
      "1. Automation and Efficiency \n",
      "AI enables automation of repetitive tasks, allowing businesses to focus on more strategic \n",
      "and creative activities. Automation powered by AI can streamline operations, reduce human \n",
      "error, and increase efficiency in processes ranging from customer service to supply chain\n",
      "\n",
      "and creative activities. Automation powered by AI can streamline operations, reduce human \n",
      "error, and increase efficiency in processes ranging from customer service to supply chain \n",
      "management. For instance, AI-driven chatbots provide instant customer support, handling \n",
      "routine inquiries and freeing up human agents for more complex issues. In manufacturing, \n",
      "AI-powered robots can perform precise tasks with greater speed and accuracy than humans, \n",
      "leading to higher productivity and reduced operational costs. \n",
      "2. Data-Driven Decision Making \n",
      "AI excels in processing vast amounts of data quickly and accurately, uncovering patterns and \n",
      "insights that would be difficult or impossible for humans to detect. Businesses can leverage \n",
      "these insights to make informed decisions, predict market trends, and identify new \n",
      "opportunities. Predictive analytics, a branch of AI, allows companies to forecast future\n",
      "</ctx>\n",
      "------\n",
      "<hs>\n",
      "Human: Give me the summary\n",
      "AI: AI plays a crucial role in digital transformation, enabling businesses to automate processes, gain data-driven insights, and create personalized customer experiences. It enhances efficiency, drives innovation, and increases competitiveness. In supply chain management, AI optimizes logistics, manages inventory, and responds to market fluctuations in real time, ensuring resilience and continuity. However, ethical considerations such as data privacy, algorithmic bias, and job displacement require careful management to build trust and ensure the long-term success of digital transformation efforts.\n",
      "Human: Give me the summary\n",
      "AI: AI plays a crucial role in digital transformation, enabling businesses to automate processes, gain data-driven insights, and create personalized customer experiences. It enhances efficiency, drives innovation, and increases competitiveness. In supply chain management, AI optimizes logistics, manages inventory, and responds to market fluctuations in real time, ensuring resilience and continuity. However, ethical considerations such as data privacy, algorithmic bias, and job displacement require careful management to build trust and ensure the long-term success of digital transformation efforts.\n",
      "</hs>\n",
      "------\n",
      "Give me the summary\n",
      "Answer:\n",
      "\u001b[0m\n",
      "\n",
      "\u001b[1m> Finished chain.\u001b[0m\n",
      "\n",
      "\u001b[1m> Finished chain.\u001b[0m\n",
      "\n",
      "\u001b[1m> Finished chain.\u001b[0m\n",
      "AI plays a crucial role in digital transformation, enabling businesses to automate processes, gain data-driven insights, and create personalized customer experiences. It enhances efficiency, drives innovation, and increases competitiveness. In supply chain management, AI optimizes logistics, manages inventory, and responds to market fluctuations in real time, ensuring resilience and continuity. However, ethical considerations such as data privacy, algorithmic bias, and job displacement require careful management to build trust and ensure the long-term success of digital transformation efforts.\n"
     ]
    }
   ],
   "source": [
    "# Run the QA system\n",
    "print(qa.run(\"Give me the summary\"))"
   ]
  }
 ],
 "metadata": {
  "kernelspec": {
   "display_name": "Python 3",
   "language": "python",
   "name": "python3"
  },
  "language_info": {
   "codemirror_mode": {
    "name": "ipython",
    "version": 3
   },
   "file_extension": ".py",
   "mimetype": "text/x-python",
   "name": "python",
   "nbconvert_exporter": "python",
   "pygments_lexer": "ipython3",
   "version": "3.9.0"
  }
 },
 "nbformat": 4,
 "nbformat_minor": 2
}
